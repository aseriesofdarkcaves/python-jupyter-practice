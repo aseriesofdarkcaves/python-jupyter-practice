{
 "cells": [
  {
   "cell_type": "markdown",
   "id": "fcd11134",
   "metadata": {},
   "source": [
    "# Data Types\n",
    "## Basic data types\n",
    "### Integer\n",
    "Unlike most other programming languages, integers in Python 3 can have large values and are only really limited by the memory a machine has.\n",
    "\n",
    "Python 3 only has one type of integer, see PEP-0237 for details."
   ]
  },
  {
   "cell_type": "code",
   "execution_count": 1,
   "id": "79684f98",
   "metadata": {},
   "outputs": [
    {
     "data": {
      "text/plain": [
       "9223372036854775807"
      ]
     },
     "execution_count": 1,
     "metadata": {},
     "output_type": "execute_result"
    }
   ],
   "source": [
    "# get access to helpful functions via sys\n",
    "import sys\n",
    "some_integer = sys.maxsize\n",
    "some_integer"
   ]
  },
  {
   "cell_type": "code",
   "execution_count": 2,
   "id": "23ce57f7",
   "metadata": {},
   "outputs": [
    {
     "data": {
      "text/plain": [
       "9223372036854775808"
      ]
     },
     "execution_count": 2,
     "metadata": {},
     "output_type": "execute_result"
    }
   ],
   "source": [
    "some_integer + 1"
   ]
  },
  {
   "cell_type": "code",
   "execution_count": 14,
   "id": "b8a2f0c9",
   "metadata": {},
   "outputs": [
    {
     "data": {
      "text/plain": [
       "int"
      ]
     },
     "execution_count": 14,
     "metadata": {},
     "output_type": "execute_result"
    }
   ],
   "source": [
    "# string to an integer\n",
    "my_var = int('100')\n",
    "type(my_var)"
   ]
  },
  {
   "cell_type": "code",
   "execution_count": 15,
   "id": "7aeb8d7a",
   "metadata": {},
   "outputs": [
    {
     "data": {
      "text/plain": [
       "str"
      ]
     },
     "execution_count": 15,
     "metadata": {},
     "output_type": "execute_result"
    }
   ],
   "source": [
    "# integer to string\n",
    "my_var = str(200)\n",
    "type(my_var)"
   ]
  },
  {
   "cell_type": "code",
   "execution_count": 20,
   "id": "8c8ec01b",
   "metadata": {},
   "outputs": [
    {
     "data": {
      "text/plain": [
       "1"
      ]
     },
     "execution_count": 20,
     "metadata": {},
     "output_type": "execute_result"
    }
   ],
   "source": [
    "# float to integer, rounding to floor\n",
    "my_var = int(1.9999)\n",
    "my_var"
   ]
  },
  {
   "cell_type": "code",
   "execution_count": 33,
   "id": "cf5ceae8",
   "metadata": {},
   "outputs": [
    {
     "data": {
      "text/plain": [
       "7"
      ]
     },
     "execution_count": 33,
     "metadata": {},
     "output_type": "execute_result"
    }
   ],
   "source": [
    "# pseudo-random integer generator - range is inclusive, exclusive\n",
    "import random\n",
    "random.randint(0, 10)"
   ]
  },
  {
   "cell_type": "code",
   "execution_count": 34,
   "id": "9187abcb",
   "metadata": {},
   "outputs": [
    {
     "data": {
      "text/plain": [
       "True"
      ]
     },
     "execution_count": 34,
     "metadata": {},
     "output_type": "execute_result"
    }
   ],
   "source": [
    "# use isinstance over type() == int\n",
    "isinstance(5, int)"
   ]
  },
  {
   "cell_type": "code",
   "execution_count": null,
   "id": "868ee1ae",
   "metadata": {},
   "outputs": [],
   "source": []
  }
 ],
 "metadata": {
  "kernelspec": {
   "display_name": "Python 3 (ipykernel)",
   "language": "python",
   "name": "python3"
  },
  "language_info": {
   "codemirror_mode": {
    "name": "ipython",
    "version": 3
   },
   "file_extension": ".py",
   "mimetype": "text/x-python",
   "name": "python",
   "nbconvert_exporter": "python",
   "pygments_lexer": "ipython3",
   "version": "3.8.10"
  }
 },
 "nbformat": 4,
 "nbformat_minor": 5
}
